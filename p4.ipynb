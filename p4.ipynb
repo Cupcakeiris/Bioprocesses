{
 "cells": [
  {
   "cell_type": "code",
   "execution_count": 2,
   "metadata": {},
   "outputs": [
    {
     "name": "stdout",
     "output_type": "stream",
     "text": [
      "x = [1. 1.], f(x) = [1. 1.] | error: 1.4142135623730951\n",
      "x = [0.8 0.6], f(x) = [0.112 0.416] | error: 0.4308131845707605\n",
      "x = [0.89599167 0.30369599], f(x) = [0.02299907 0.13201859] | error: 0.13400696116406005\n",
      "x = [0.97139712 0.0990902 ], f(x) = [0.01571253 0.02957584] | error: 0.03349050177902812\n",
      "x = [0.99826933 0.00730683], f(x) = [0.00212379 0.00173106] | error: 0.0027399006729946023\n",
      "x = [9.99999222e-01 1.13024703e-05], f(x) = [8.96724642e-06 7.78408567e-07] | error: 9.000968188570244e-06\n",
      "x = [1.00000000e+00 1.82630435e-12], f(x) = [1.81765714e-12 2.88657986e-15] | error: 1.8176594279707025e-12\n",
      "Solution: [1.00000000e+00 1.82630435e-12]\n",
      "Left Hand Side: [1.81765714e-12 2.88657986e-15]\n",
      "Iterations: 7\n"
     ]
    }
   ],
   "source": [
    "import numpy as np\n",
    "\n",
    "def f(x):\n",
    "    return np.array([x[0]**3 + x[1] - 1, x[1]**3 - x[0] + 1])\n",
    "\n",
    "def Df(x):\n",
    "    return np.array([[3 * x[0]**2, 1],\n",
    "                     [-1, 3 * x[1]**2]])\n",
    "\n",
    "x = np.array([0, 0])\n",
    "\n",
    "e = np.inf\n",
    "tol = 10**(-6)\n",
    "n = 0\n",
    "while e >= tol:\n",
    "    Dx = -np.linalg.solve(Df(x), f(x))  \n",
    "    x = x + Dx \n",
    "    e = np.linalg.norm(f(x))\n",
    "    n += 1\n",
    "    print(f\"x = {x}, f(x) = {f(x)} | error: {e}\") \n",
    "print(\"Solution:\", x)\n",
    "print(\"Left Hand Side:\", f(x))\n",
    "print(\"Iterations:\", n)\n"
   ]
  }
 ],
 "metadata": {
  "kernelspec": {
   "display_name": "base",
   "language": "python",
   "name": "python3"
  },
  "language_info": {
   "codemirror_mode": {
    "name": "ipython",
    "version": 3
   },
   "file_extension": ".py",
   "mimetype": "text/x-python",
   "name": "python",
   "nbconvert_exporter": "python",
   "pygments_lexer": "ipython3",
   "version": "3.11.7"
  }
 },
 "nbformat": 4,
 "nbformat_minor": 2
}
